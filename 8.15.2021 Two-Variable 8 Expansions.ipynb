{
 "cells": [
  {
   "cell_type": "code",
   "execution_count": 130,
   "id": "fb673fbd",
   "metadata": {},
   "outputs": [],
   "source": [
    "#Importing standard Qiskit libraries\n",
    "from qiskit import *\n",
    "from qiskit import QuantumCircuit#Import necessary packages\n",
    "from qiskit import Aer, execute\n",
    "from qiskit.visualization import *\n",
    "import numpy as np\n",
    "import matplotlib as mpl"
   ]
  },
  {
   "cell_type": "code",
   "execution_count": 131,
   "id": "501e8777",
   "metadata": {},
   "outputs": [
    {
     "data": {
      "text/plain": [
       "<qiskit.circuit.gate.Gate at 0x27d83fa7310>"
      ]
     },
     "execution_count": 131,
     "metadata": {},
     "output_type": "execute_result"
    }
   ],
   "source": [
    "#Multiplexer, 8 equations, equation 8 and 5a and 5b. NO THROWAWAY BITS\n",
    "\n",
    "a = QuantumRegister(15, 'q')\n",
    "multiplexer = QuantumCircuit(a, name='Multiplexer')\n",
    "\n",
    "#column 1\n",
    "#minterms\n",
    "m1=6\n",
    "m2=7\n",
    "m3=8\n",
    "#controls\n",
    "c1=3\n",
    "c2=4\n",
    "c3=5\n",
    "\n",
    "#111,110,101,100,011,010,001,000\n",
    "for x in range(0, 3):\n",
    "    multiplexer.mct([c1,c2,c3,m3],m1) #Eq 8a\n",
    "    multiplexer.x(c3)\n",
    "    multiplexer.mct([c1,c2,c3,m3],m2) #Eq 8b\n",
    "    multiplexer.x(c2)\n",
    "    multiplexer.x(c3)\n",
    "    multiplexer.mct([c1,c2,c3,m1],m2) #Eq 8c\n",
    "    multiplexer.x(c3)\n",
    "    multiplexer.mct([c1,c2,c3,m1],m3) #Eq 8d\n",
    "    multiplexer.x(c1)\n",
    "    multiplexer.x(c2)\n",
    "    multiplexer.x(c3)\n",
    "    multiplexer.mct([c1,c2,c3,m2],m1) #Eq 8e\n",
    "    multiplexer.x(c3)\n",
    "    multiplexer.mct([c1,c2,c3,m2],m3) #Eq 8f\n",
    "    multiplexer.x(c2)\n",
    "    multiplexer.x(c3)\n",
    "    multiplexer.mct([c1,c2,c3,m1],m2) #Eq 5a\n",
    "    multiplexer.mct([c1,c2,c3,m1],m3) #Eq 5a\n",
    "    multiplexer.x(c3)\n",
    "    multiplexer.mct([c1,c2,c3,m2],m1) #Eq 5b\n",
    "    multiplexer.mct([c1,c2,c3,m2],m3) #Eq 5b\n",
    "    multiplexer.x(c1)\n",
    "    multiplexer.x(c2)\n",
    "    multiplexer.x(c3)\n",
    "    #multiplexer.barrier()\n",
    "    m1+=3\n",
    "    m2+=3\n",
    "    m3+=3\n",
    "\n",
    "#column 2\n",
    "\n",
    "m1-=9\n",
    "m2-=7\n",
    "m3-=5 \n",
    "\n",
    "c1-=3\n",
    "c2-=3\n",
    "c3-=3\n",
    "\n",
    "for x in range(0, 3):\n",
    "    multiplexer.mct([c1,c2,c3,m3],m1) #Eq 8a\n",
    "    multiplexer.x(c3)\n",
    "    multiplexer.mct([c1,c2,c3,m3],m2) #Eq 8b\n",
    "    multiplexer.x(c2)\n",
    "    multiplexer.x(c3)\n",
    "    multiplexer.mct([c1,c2,c3,m1],m2) #Eq 8c\n",
    "    multiplexer.x(c3)\n",
    "    multiplexer.mct([c1,c2,c3,m1],m3) #Eq 8d\n",
    "    multiplexer.x(c1)\n",
    "    multiplexer.x(c2)\n",
    "    multiplexer.x(c3)\n",
    "    multiplexer.mct([c1,c2,c3,m2],m1) #Eq 8e\n",
    "    multiplexer.x(c3)\n",
    "    multiplexer.mct([c1,c2,c3,m2],m3) #Eq 8f\n",
    "    multiplexer.x(c2)\n",
    "    multiplexer.x(c3)\n",
    "    multiplexer.mct([c1,c2,c3,m1],m2) #Eq 5a\n",
    "    multiplexer.mct([c1,c2,c3,m1],m3) #Eq 5a\n",
    "    multiplexer.x(c3)\n",
    "    multiplexer.mct([c1,c2,c3,m2],m1) #Eq 5b\n",
    "    multiplexer.mct([c1,c2,c3,m2],m3) #Eq 5b\n",
    "    multiplexer.x(c1)\n",
    "    multiplexer.x(c2)\n",
    "    multiplexer.x(c3)\n",
    "    #multiplexer.barrier()\n",
    "    m1+=1\n",
    "    m2+=1\n",
    "    m3+=1\n",
    "\n",
    "multiplexer.to_gate()\n",
    "#multiplexer.draw('mpl')"
   ]
  },
  {
   "cell_type": "code",
   "execution_count": 132,
   "id": "99af0be4",
   "metadata": {},
   "outputs": [
    {
     "data": {
      "text/plain": [
       "<qiskit.circuit.gate.Gate at 0x27d71ec23a0>"
      ]
     },
     "execution_count": 132,
     "metadata": {},
     "output_type": "execute_result"
    }
   ],
   "source": [
    "#Mirror for multiplexer\n",
    "mirrormultiplexer = QuantumCircuit(15, name='Mirror Multiplexer')\n",
    "\n",
    "#minterms\n",
    "m1=9\n",
    "m2=12\n",
    "m3=15\n",
    "\n",
    "#controls\n",
    "c1=0\n",
    "c2=1\n",
    "c3=2\n",
    "\n",
    "#column 2\n",
    "for x in range(0, 3):\n",
    "    m1-=1\n",
    "    m2-=1\n",
    "    m3-=1\n",
    "    mirrormultiplexer.x(c1)\n",
    "    mirrormultiplexer.x(c2)\n",
    "    mirrormultiplexer.x(c3)\n",
    "    mirrormultiplexer.mct([c1,c2,c3,m2],m3) #Eq 5b\n",
    "    mirrormultiplexer.mct([c1,c2,c3,m2],m1) #Eq 5b\n",
    "    mirrormultiplexer.x(c3)\n",
    "    mirrormultiplexer.mct([c1,c2,c3,m1],m3) #Eq 5a\n",
    "    mirrormultiplexer.mct([c1,c2,c3,m1],m2) #Eq 5a\n",
    "    mirrormultiplexer.x(c2)\n",
    "    mirrormultiplexer.x(c3)\n",
    "    mirrormultiplexer.mct([c1,c2,c3,m2],m3) #Eq 8f\n",
    "    mirrormultiplexer.x(c3)\n",
    "    mirrormultiplexer.mct([c1,c2,c3,m2],m1) #Eq 8e\n",
    "    mirrormultiplexer.x(c1)\n",
    "    mirrormultiplexer.x(c2)\n",
    "    mirrormultiplexer.x(c3)\n",
    "    mirrormultiplexer.mct([c1,c2,c3,m1],m3) #Eq 8d\n",
    "    mirrormultiplexer.x(c3)\n",
    "    mirrormultiplexer.mct([c1,c2,c3,m1],m2) #Eq 8c\n",
    "    mirrormultiplexer.x(c2)\n",
    "    mirrormultiplexer.x(c3)\n",
    "    mirrormultiplexer.mct([c1,c2,c3,m3],m2) #Eq 8b\n",
    "    mirrormultiplexer.x(c3)\n",
    "    mirrormultiplexer.mct([c1,c2,c3,m3],m1) #Eq 8a\n",
    "\n",
    "c1+=3\n",
    "c2+=3\n",
    "c3+=3\n",
    "\n",
    "m1+=9\n",
    "m2+=7\n",
    "m3+=5\n",
    "\n",
    "#column 1\n",
    "for x in range(0, 3):\n",
    "    m1-=3\n",
    "    m2-=3\n",
    "    m3-=3\n",
    "    mirrormultiplexer.x(c1)\n",
    "    mirrormultiplexer.x(c2)\n",
    "    mirrormultiplexer.x(c3)\n",
    "    mirrormultiplexer.mct([c1,c2,c3,m2],m3) #Eq 5b\n",
    "    mirrormultiplexer.mct([c1,c2,c3,m2],m1) #Eq 5b\n",
    "    mirrormultiplexer.x(c3)\n",
    "    mirrormultiplexer.mct([c1,c2,c3,m1],m3) #Eq 5a\n",
    "    mirrormultiplexer.mct([c1,c2,c3,m1],m2) #Eq 5a\n",
    "    mirrormultiplexer.x(c2)\n",
    "    mirrormultiplexer.x(c3)\n",
    "    mirrormultiplexer.mct([c1,c2,c3,m2],m3) #Eq 8f\n",
    "    mirrormultiplexer.x(c3)\n",
    "    mirrormultiplexer.mct([c1,c2,c3,m2],m1) #Eq 8e\n",
    "    mirrormultiplexer.x(c1)\n",
    "    mirrormultiplexer.x(c2)\n",
    "    mirrormultiplexer.x(c3)\n",
    "    mirrormultiplexer.mct([c1,c2,c3,m1],m3) #Eq 8d\n",
    "    mirrormultiplexer.x(c3)\n",
    "    mirrormultiplexer.mct([c1,c2,c3,m1],m2) #Eq 8c\n",
    "    mirrormultiplexer.x(c2)\n",
    "    mirrormultiplexer.x(c3)\n",
    "    mirrormultiplexer.mct([c1,c2,c3,m3],m2) #Eq 8b\n",
    "    mirrormultiplexer.x(c3)\n",
    "    mirrormultiplexer.mct([c1,c2,c3,m3],m1) #Eq 8a\n",
    "\n",
    "mirrormultiplexer.to_gate()\n",
    "#mirrormultiplexer.draw('mpl')"
   ]
  },
  {
   "cell_type": "code",
   "execution_count": 143,
   "id": "29467481",
   "metadata": {},
   "outputs": [
    {
     "data": {
      "text/plain": [
       "<qiskit.circuit.gate.Gate at 0x27d71dfbb80>"
      ]
     },
     "execution_count": 143,
     "metadata": {},
     "output_type": "execute_result"
    }
   ],
   "source": [
    "mirrorCounterComparator = QuantumCircuit(19, name='Mirror Cost Counter and Comparator')\n",
    "#greater than comparator mirror\n",
    "\n",
    "\n",
    "#counter mirror\n",
    "'''\n",
    "i=14\n",
    "ja=15\n",
    "jb=16\n",
    "jc=17\n",
    "jd=18\n",
    "'''\n",
    "i=14\n",
    "ja=15\n",
    "jb=16\n",
    "jc=17\n",
    "jd=18\n",
    "for x in range(0, 9):\n",
    "    mirrorCounterComparator.cx(i,ja)\n",
    "    mirrorCounterComparator.mct([i,ja],jb)\n",
    "    mirrorCounterComparator.mct([i,ja,jb],jc)\n",
    "    mirrorCounterComparator.mct([i,ja,jb,jc],jd)\n",
    "    i-=1\n",
    "#counter works--q18 q17 q16 q15-->0001, 0010, 0011, 0100,etc\n",
    "#counterComparator.measure([0,1,2,3,4,5,6,7,8,9,10,11,12,13,14,15,16,17,18],[0,1,2,3,4,5,6,7,8,9,10,11,12,13,14,15,16,17,18])\n",
    "mirrorCounterComparator.to_gate()\n",
    "#mirrorCounterComparator.draw('mpl')"
   ]
  },
  {
   "cell_type": "code",
   "execution_count": 144,
   "id": "01c93f18",
   "metadata": {},
   "outputs": [
    {
     "data": {
      "text/plain": [
       "<qiskit.circuit.gate.Gate at 0x27d843fc6a0>"
      ]
     },
     "execution_count": 144,
     "metadata": {},
     "output_type": "execute_result"
    }
   ],
   "source": [
    "diffusion = QuantumCircuit(6, name='Diffusion')\n",
    "diffusion.h([0,1,2,3,4,5])\n",
    "diffusion.x([0,1,2,3,4,5])\n",
    "diffusion.h(5)\n",
    "diffusion.mct([0,1,2,3,4],5)\n",
    "diffusion.h(5)\n",
    "diffusion.x([0,1,2,3,4,5])\n",
    "diffusion.h([0,1,2,3,4,5])\n",
    "diffusion.to_gate()\n",
    "#diffusion.draw('mpl')"
   ]
  },
  {
   "cell_type": "code",
   "execution_count": 166,
   "id": "1bd960a7",
   "metadata": {},
   "outputs": [
    {
     "data": {
      "text/plain": [
       "<qiskit.circuit.gate.Gate at 0x27d848eb040>"
      ]
     },
     "execution_count": 166,
     "metadata": {},
     "output_type": "execute_result"
    }
   ],
   "source": [
    "#\n",
    "#Cost counter and comparator, threshold value SAT problem\n",
    "counterComparator = QuantumCircuit(20, name='Cost Counter and Comparator')\n",
    "#counterComparator = QuantumCircuit(27, 16)\n",
    "#counter--count the number of 1s, non zero coefficients q(P)\n",
    "#\"count ones\" function\n",
    "#standard adders to get the final number of 1s\n",
    "i=6\n",
    "ja=15\n",
    "jb=16\n",
    "jc=17\n",
    "jd=18\n",
    "for x in range(0, 9):\n",
    "    counterComparator.mct([i,ja,jb,jc],jd)\n",
    "    counterComparator.mct([i,ja,jb],jc)\n",
    "    counterComparator.mct([i,ja],jb)\n",
    "    counterComparator.cx(i,ja)\n",
    "    i+=1\n",
    "#counter works--q19 q18 q17 q16-->0001, 0010, 0011, 0100,etc\n",
    "#counterComparator.barrier()\n",
    "\n",
    "#counterComparator.x(15)\n",
    "counterComparator.x(16)\n",
    "counterComparator.x(17)\n",
    "counterComparator.x(18)\n",
    "counterComparator.mct([15,16,17,18],19)\n",
    "counterComparator.x(18)\n",
    "counterComparator.x(17)\n",
    "counterComparator.x(16)\n",
    "#counterComparator.x(15)\n",
    "\n",
    "counterComparator.to_gate()\n",
    "#counterComparator.draw('mpl')\n",
    "#test"
   ]
  },
  {
   "cell_type": "code",
   "execution_count": 167,
   "id": "5281644b",
   "metadata": {},
   "outputs": [
    {
     "data": {
      "text/plain": [
       "<qiskit.circuit.instructionset.InstructionSet at 0x27d841fe6d0>"
      ]
     },
     "execution_count": 167,
     "metadata": {},
     "output_type": "execute_result"
    }
   ],
   "source": [
    "qr = QuantumRegister(20, 'q')\n",
    "cr = ClassicalRegister(6, 'c')\n",
    "qc = QuantumCircuit(qr, cr)\n",
    "\n",
    "#m00\n",
    "#qc.x(6)\n",
    "\n",
    "#m01\n",
    "#qc.x(7)\n",
    "\n",
    "#m02\n",
    "#qc.x(8)\n",
    "\n",
    "#m10\n",
    "#qc.x(9)\n",
    "\n",
    "#m11\n",
    "#qc.x(10)\n",
    "\n",
    "#m12\n",
    "#qc.x(11)\n",
    "\n",
    "#m20\n",
    "qc.x(12)\n",
    "\n",
    "#m21\n",
    "#qc.x(13)\n",
    "\n",
    "#m22\n",
    "#qc.x(14)\n",
    "\n",
    "#minterms\n",
    "\n",
    "qc.x(19)\n",
    "qc.h([0,1,2,3,4,5,19])\n",
    "for x in range(0, 20):\n",
    "    qc.append(multiplexer,[0,1,2,3,4,5,6,7,8,9,10,11,12,13,14])\n",
    "    qc.append(counterComparator,[0,1,2,3,4,5,6,7,8,9,10,11,12,13,14,15,16,17,18,19])\n",
    "    qc.append(mirrorCounterComparator,[0,1,2,3,4,5,6,7,8,9,10,11,12,13,14,15,16,17,18])\n",
    "    qc.append(mirrormultiplexer,[0,1,2,3,4,5,6,7,8,9,10,11,12,13,14])\n",
    "    qc.append(diffusion,[0,1,2,3,4,5])\n",
    "qc.measure([0,1,2,3,4,5],[0,1,2,3,4,5])\n",
    "#qc.draw('mpl')"
   ]
  },
  {
   "cell_type": "code",
   "execution_count": 168,
   "id": "28effc90",
   "metadata": {},
   "outputs": [],
   "source": [
    "backend_sim = Aer.get_backend('qasm_simulator')\n",
    "sim = execute(qc, backend_sim, shots=1000)\n",
    "sim_result = sim.result()\n",
    "counts = sim_result.get_counts(qc)\n",
    "from qiskit.visualization import plot_histogram #histogram\n",
    "#print(counts)"
   ]
  },
  {
   "cell_type": "code",
   "execution_count": 169,
   "id": "f63b5de0",
   "metadata": {},
   "outputs": [
    {
     "data": {
      "image/png": "[encoded data removed]",
      "text/plain": [
       "<Figure size 504x360 with 1 Axes>"
      ]
     },
     "execution_count": 169,
     "metadata": {},
     "output_type": "execute_result"
    }
   ],
   "source": [
    "plot_histogram(counts)"
   ]
  },
  {
   "cell_type": "code",
   "execution_count": 170,
   "id": "cabd3402",
   "metadata": {},
   "outputs": [
    {
     "name": "stdout",
     "output_type": "stream",
     "text": [
      "101111\n"
     ]
    }
   ],
   "source": [
    "max_key = max(counts, key=counts.get)\n",
    "print(max_key)\n"
   ]
  },
  {
   "cell_type": "code",
   "execution_count": 171,
   "id": "8e77e8a7",
   "metadata": {},
   "outputs": [
    {
     "data": {
      "text/plain": [
       "<qiskit.circuit.instructionset.InstructionSet at 0x27d84066850>"
      ]
     },
     "execution_count": 171,
     "metadata": {},
     "output_type": "execute_result"
    }
   ],
   "source": [
    "qr = QuantumRegister(15, 'q')\n",
    "cr = ClassicalRegister(15, 'c')\n",
    "oracle = QuantumCircuit(qr, cr)\n",
    "\n",
    "#polarity\n",
    "\n",
    "oracle.x([0,1,2,3,5])\n",
    "\n",
    "#m00\n",
    "#oracle.x(6)\n",
    "\n",
    "#m01\n",
    "#oracle.x(7)\n",
    "\n",
    "#m02\n",
    "#oracle.x(8)\n",
    "\n",
    "#m10\n",
    "#oracle.x(9)\n",
    "\n",
    "#m11\n",
    "#oracle.x(10)\n",
    "\n",
    "#m12\n",
    "#oracle.x(11)\n",
    "\n",
    "#m20\n",
    "oracle.x(12)\n",
    "\n",
    "#m21\n",
    "#oracle.x(13)\n",
    "\n",
    "#m22\n",
    "#oracle.x(14)\n",
    "\n",
    "#column 1\n",
    "#minterms\n",
    "m1=6\n",
    "m2=7\n",
    "m3=8\n",
    "#controls\n",
    "c1=3\n",
    "c2=4\n",
    "c3=5\n",
    "#111,110,101,100,011,010,001,000\n",
    "for x in range(0, 3):\n",
    "    oracle.mct([c1,c2,c3,m3],m1) #Eq 8a\n",
    "    oracle.x(c3)\n",
    "    oracle.mct([c1,c2,c3,m3],m2) #Eq 8b\n",
    "    oracle.x(c2)\n",
    "    oracle.x(c3)\n",
    "    oracle.mct([c1,c2,c3,m1],m2) #Eq 8c\n",
    "    oracle.x(c3)\n",
    "    oracle.mct([c1,c2,c3,m1],m3) #Eq 8d\n",
    "    oracle.x(c1)\n",
    "    oracle.x(c2)\n",
    "    oracle.x(c3)\n",
    "    oracle.mct([c1,c2,c3,m2],m1) #Eq 8e\n",
    "    oracle.x(c3)\n",
    "    oracle.mct([c1,c2,c3,m2],m3) #Eq 8f\n",
    "    oracle.x(c2)\n",
    "    oracle.x(c3)\n",
    "    oracle.mct([c1,c2,c3,m1],m2) #Eq 5a\n",
    "    oracle.mct([c1,c2,c3,m1],m3) #Eq 5a\n",
    "    oracle.x(c3)\n",
    "    oracle.mct([c1,c2,c3,m2],m1) #Eq 5b\n",
    "    oracle.mct([c1,c2,c3,m2],m3) #Eq 5b\n",
    "    oracle.x(c1)\n",
    "    oracle.x(c2)\n",
    "    oracle.x(c3)\n",
    "    m1+=3\n",
    "    m2+=3\n",
    "    m3+=3\n",
    "\n",
    "#column 2\n",
    "\n",
    "m1-=9\n",
    "m2-=7\n",
    "m3-=5 \n",
    "\n",
    "c1-=3\n",
    "c2-=3\n",
    "c3-=3\n",
    "\n",
    "for x in range(0, 3):\n",
    "    oracle.mct([c1,c2,c3,m3],m1) #Eq 8a\n",
    "    oracle.x(c3)\n",
    "    oracle.mct([c1,c2,c3,m3],m2) #Eq 8b\n",
    "    oracle.x(c2)\n",
    "    oracle.x(c3)\n",
    "    oracle.mct([c1,c2,c3,m1],m2) #Eq 8c\n",
    "    oracle.x(c3)\n",
    "    oracle.mct([c1,c2,c3,m1],m3) #Eq 8d\n",
    "    oracle.x(c1)\n",
    "    oracle.x(c2)\n",
    "    oracle.x(c3)\n",
    "    oracle.mct([c1,c2,c3,m2],m1) #Eq 8e\n",
    "    oracle.x(c3)\n",
    "    oracle.mct([c1,c2,c3,m2],m3) #Eq 8f\n",
    "    oracle.x(c2)\n",
    "    oracle.x(c3)\n",
    "    oracle.mct([c1,c2,c3,m1],m2) #Eq 5a\n",
    "    oracle.mct([c1,c2,c3,m1],m3) #Eq 5a\n",
    "    oracle.x(c3)\n",
    "    oracle.mct([c1,c2,c3,m2],m1) #Eq 5b\n",
    "    oracle.mct([c1,c2,c3,m2],m3) #Eq 5b\n",
    "    oracle.x(c1)\n",
    "    oracle.x(c2)\n",
    "    oracle.x(c3)\n",
    "    m1+=1\n",
    "    m2+=1\n",
    "    m3+=1\n",
    "oracle.measure([0,1,2,3,4,5,6,7,8,9,10,11,12,13,14],[0,1,2,3,4,5,6,7,8,9,10,11,12,13,14])\n",
    "#oracle.draw('mpl')"
   ]
  },
  {
   "cell_type": "code",
   "execution_count": 172,
   "id": "ecc7b973",
   "metadata": {},
   "outputs": [
    {
     "name": "stdout",
     "output_type": "stream",
     "text": [
      "{'011000011101111': 1000}\n"
     ]
    }
   ],
   "source": [
    "backend_sim = Aer.get_backend('qasm_simulator')\n",
    "sim = execute(oracle, backend_sim, shots=1000)\n",
    "sim_result = sim.result()\n",
    "counts = sim_result.get_counts(oracle)\n",
    "from qiskit.visualization import plot_histogram #histogram\n",
    "print(counts)"
   ]
  },
  {
   "cell_type": "code",
   "execution_count": 127,
   "id": "changed-cover",
   "metadata": {},
   "outputs": [
    {
     "data": {
      "image/png": "[encoded data removed]",
      "text/plain": [
       "<Figure size 504x360 with 1 Axes>"
      ]
     },
     "execution_count": 127,
     "metadata": {},
     "output_type": "execute_result"
    }
   ],
   "source": [
    "plot_histogram(counts)"
   ]
  },
  {
   "cell_type": "code",
   "execution_count": null,
   "id": "informed-minutes",
   "metadata": {},
   "outputs": [],
   "source": []
  },
  {
   "cell_type": "code",
   "execution_count": null,
   "id": "06059208-afeb-43ce-bee0-429fae782a97",
   "metadata": {},
   "outputs": [],
   "source": []
  }
 ],
 "metadata": {
  "kernelspec": {
   "display_name": "Python 3 (ipykernel)",
   "language": "python",
   "name": "python3"
  },
  "language_info": {
   "codemirror_mode": {
    "name": "ipython",
    "version": 3
   },
   "file_extension": ".py",
   "mimetype": "text/x-python",
   "name": "python",
   "nbconvert_exporter": "python",
   "pygments_lexer": "ipython3",
   "version": "3.9.7"
  }
 },
 "nbformat": 4,
 "nbformat_minor": 5
}
